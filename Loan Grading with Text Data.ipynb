{
  "nbformat": 4,
  "nbformat_minor": 0,
  "metadata": {
    "accelerator": "GPU",
    "colab": {
      "name": "Copy of Lendingclub prediction.ipynb",
      "provenance": [],
      "collapsed_sections": [],
      "authorship_tag": "ABX9TyOucFVJpIOSvAX9WUE47ws6",
      "include_colab_link": true
    },
    "kernelspec": {
      "display_name": "Python 3",
      "name": "python3"
    }
  },
  "cells": [
    {
      "cell_type": "markdown",
      "metadata": {
        "id": "view-in-github",
        "colab_type": "text"
      },
      "source": [
        "<a href=\"https://colab.research.google.com/github/ragul-n/LendingClubPrediction/blob/master/Loan%20Grading%20with%20Text%20Data.ipynb\" target=\"_parent\"><img src=\"https://colab.research.google.com/assets/colab-badge.svg\" alt=\"Open In Colab\"/></a>"
      ]
    },
    {
      "cell_type": "markdown",
      "metadata": {
        "id": "CwzJ-2Ke2Cc2"
      },
      "source": [
        "#### Downloading data from Kaggle\n",
        "Upload your Kaggle API token (kaggle.json file) below to download data directly from kaggle."
      ]
    },
    {
      "cell_type": "code",
      "metadata": {
        "id": "ZkZdCf4QDCDc"
      },
      "source": [
        "from google.colab import files\n",
        "files.upload()\n",
        "\n",
        "! mkdir ~/.kaggle\n",
        "! cp kaggle.json ~/.kaggle/\n",
        "!kaggle datasets download -d wordsforthewise/lending-club"
      ],
      "execution_count": null,
      "outputs": []
    },
    {
      "cell_type": "code",
      "metadata": {
        "id": "ztCjFlnzDLL6"
      },
      "source": [
        "!unzip lending-club.zip"
      ],
      "execution_count": null,
      "outputs": []
    },
    {
      "cell_type": "markdown",
      "metadata": {
        "id": "cyLWJ0fWlGa3"
      },
      "source": [
        "### Reading and Clening Data"
      ]
    },
    {
      "cell_type": "code",
      "metadata": {
        "id": "AfOPCYgJXbkK"
      },
      "source": [
        "import pandas as pd\n",
        "import numpy as np\n",
        "import tensorflow as tf\n",
        "import matplotlib.pyplot as plt\n",
        "from sklearn.model_selection import train_test_split\n",
        "from LoanGrader import LoanGrader"
      ],
      "execution_count": 2,
      "outputs": []
    },
    {
      "cell_type": "code",
      "metadata": {
        "id": "hqCd9k_NPCEB"
      },
      "source": [
        "\n",
        "#columns to be used\n",
        "cols= [\"loan_amnt\" ,'term' ,'int_rate' , 'installment' ,'grade'  ,'emp_title' ,'emp_length' ,'home_ownership' ,'annual_inc' , 'dti' ,'verification_status', \n",
        "        'pymnt_plan'  ,'purpose' ,'title' ,'zip_code' ,'addr_state' ,'dti' ,'fico_range_low' ,'fico_range_high' ,'tax_liens', \n",
        "       \"open_acc\", \"pub_rec\", \"revol_bal\", \"revol_util\", \"total_acc\", \"mort_acc\", 'application_type']\n",
        "\n"
      ],
      "execution_count": 3,
      "outputs": []
    },
    {
      "cell_type": "code",
      "metadata": {
        "id": "TDNVGoG-Xqz8"
      },
      "source": [
        "accepted_loans = pd.read_csv(\"/content/accepted_2007_to_2018Q4.csv.gz\",  low_memory=False, usecols=cols)\n"
      ],
      "execution_count": 4,
      "outputs": []
    },
    {
      "cell_type": "code",
      "metadata": {
        "id": "2UhEDgvwEsh1",
        "colab": {
          "base_uri": "https://localhost:8080/"
        },
        "outputId": "630be537-0381-492a-c8f3-514fffe72b96"
      },
      "source": [
        "accepted_loans.drop(accepted_loans.tail(2).index, inplace = True) #droping lost two rows\n",
        "\n",
        "accepted_loans = accepted_loans[accepted_loans['application_type'] ==\"Individual\"] #removing joint loan applications\n",
        "data = accepted_loans.drop([ \"application_type\" ], axis=1 )\n",
        "\n",
        "accepted_loans= accepted_loans[[(not i) for i in accepted_loans['loan_amnt'].isna()]] #removing all instances with NA values for loan amount. \n",
        "\n",
        "print(\"Loan Grades: \",sorted(accepted_loans[\"grade\"].unique()))"
      ],
      "execution_count": 5,
      "outputs": [
        {
          "output_type": "stream",
          "name": "stdout",
          "text": [
            "Loan Grades:  ['A', 'B', 'C', 'D', 'E', 'F', 'G']\n"
          ]
        }
      ]
    },
    {
      "cell_type": "markdown",
      "metadata": {
        "id": "2UsBASGNlmB_"
      },
      "source": [
        "#### Imputing Missing Values"
      ]
    },
    {
      "cell_type": "code",
      "metadata": {
        "id": "YbrX9k8AX63N"
      },
      "source": [
        "data=data.fillna({\"emp_title\": \"not known\", \"home_ownership\":\"not known\", \"emp_length\": \"not known\", 'title':\"No title\", \"zip_code\": \"000XX\"})\n",
        "data=data.fillna(data.mean(numeric_only=True))"
      ],
      "execution_count": 6,
      "outputs": []
    },
    {
      "cell_type": "markdown",
      "metadata": {
        "id": "vvb04tNNgaAP"
      },
      "source": [
        "#preparing Data for training"
      ]
    },
    {
      "cell_type": "code",
      "metadata": {
        "id": "PC0UQ8AfpcGH"
      },
      "source": [
        "data['text']=  data['emp_title'] + \" \" + data['purpose']+ \" \" + data['title']\n"
      ],
      "execution_count": 7,
      "outputs": []
    },
    {
      "cell_type": "code",
      "metadata": {
        "colab": {
          "base_uri": "https://localhost:8080/",
          "height": 399
        },
        "id": "ndkh5xa1KN1g",
        "outputId": "ccb2e495-3df8-42da-a8fb-036fbf21d241"
      },
      "source": [
        "data=data.drop([ 'emp_title',  'purpose', 'title'], axis=1)\n",
        "data.head()"
      ],
      "execution_count": 8,
      "outputs": [
        {
          "output_type": "execute_result",
          "data": {
            "text/html": [
              "<div>\n",
              "<style scoped>\n",
              "    .dataframe tbody tr th:only-of-type {\n",
              "        vertical-align: middle;\n",
              "    }\n",
              "\n",
              "    .dataframe tbody tr th {\n",
              "        vertical-align: top;\n",
              "    }\n",
              "\n",
              "    .dataframe thead th {\n",
              "        text-align: right;\n",
              "    }\n",
              "</style>\n",
              "<table border=\"1\" class=\"dataframe\">\n",
              "  <thead>\n",
              "    <tr style=\"text-align: right;\">\n",
              "      <th></th>\n",
              "      <th>loan_amnt</th>\n",
              "      <th>term</th>\n",
              "      <th>int_rate</th>\n",
              "      <th>installment</th>\n",
              "      <th>grade</th>\n",
              "      <th>emp_length</th>\n",
              "      <th>home_ownership</th>\n",
              "      <th>annual_inc</th>\n",
              "      <th>verification_status</th>\n",
              "      <th>pymnt_plan</th>\n",
              "      <th>zip_code</th>\n",
              "      <th>addr_state</th>\n",
              "      <th>dti</th>\n",
              "      <th>fico_range_low</th>\n",
              "      <th>fico_range_high</th>\n",
              "      <th>open_acc</th>\n",
              "      <th>pub_rec</th>\n",
              "      <th>revol_bal</th>\n",
              "      <th>revol_util</th>\n",
              "      <th>total_acc</th>\n",
              "      <th>mort_acc</th>\n",
              "      <th>tax_liens</th>\n",
              "      <th>text</th>\n",
              "    </tr>\n",
              "  </thead>\n",
              "  <tbody>\n",
              "    <tr>\n",
              "      <th>0</th>\n",
              "      <td>3600.0</td>\n",
              "      <td>36 months</td>\n",
              "      <td>13.99</td>\n",
              "      <td>123.03</td>\n",
              "      <td>C</td>\n",
              "      <td>10+ years</td>\n",
              "      <td>MORTGAGE</td>\n",
              "      <td>55000.0</td>\n",
              "      <td>Not Verified</td>\n",
              "      <td>n</td>\n",
              "      <td>190xx</td>\n",
              "      <td>PA</td>\n",
              "      <td>5.91</td>\n",
              "      <td>675.0</td>\n",
              "      <td>679.0</td>\n",
              "      <td>7.0</td>\n",
              "      <td>0.0</td>\n",
              "      <td>2765.0</td>\n",
              "      <td>29.7</td>\n",
              "      <td>13.0</td>\n",
              "      <td>1.0</td>\n",
              "      <td>0.0</td>\n",
              "      <td>leadman debt_consolidation Debt consolidation</td>\n",
              "    </tr>\n",
              "    <tr>\n",
              "      <th>1</th>\n",
              "      <td>24700.0</td>\n",
              "      <td>36 months</td>\n",
              "      <td>11.99</td>\n",
              "      <td>820.28</td>\n",
              "      <td>C</td>\n",
              "      <td>10+ years</td>\n",
              "      <td>MORTGAGE</td>\n",
              "      <td>65000.0</td>\n",
              "      <td>Not Verified</td>\n",
              "      <td>n</td>\n",
              "      <td>577xx</td>\n",
              "      <td>SD</td>\n",
              "      <td>16.06</td>\n",
              "      <td>715.0</td>\n",
              "      <td>719.0</td>\n",
              "      <td>22.0</td>\n",
              "      <td>0.0</td>\n",
              "      <td>21470.0</td>\n",
              "      <td>19.2</td>\n",
              "      <td>38.0</td>\n",
              "      <td>4.0</td>\n",
              "      <td>0.0</td>\n",
              "      <td>Engineer small_business Business</td>\n",
              "    </tr>\n",
              "    <tr>\n",
              "      <th>3</th>\n",
              "      <td>35000.0</td>\n",
              "      <td>60 months</td>\n",
              "      <td>14.85</td>\n",
              "      <td>829.90</td>\n",
              "      <td>C</td>\n",
              "      <td>10+ years</td>\n",
              "      <td>MORTGAGE</td>\n",
              "      <td>110000.0</td>\n",
              "      <td>Source Verified</td>\n",
              "      <td>n</td>\n",
              "      <td>076xx</td>\n",
              "      <td>NJ</td>\n",
              "      <td>17.06</td>\n",
              "      <td>785.0</td>\n",
              "      <td>789.0</td>\n",
              "      <td>13.0</td>\n",
              "      <td>0.0</td>\n",
              "      <td>7802.0</td>\n",
              "      <td>11.6</td>\n",
              "      <td>17.0</td>\n",
              "      <td>1.0</td>\n",
              "      <td>0.0</td>\n",
              "      <td>Information Systems Officer debt_consolidation...</td>\n",
              "    </tr>\n",
              "    <tr>\n",
              "      <th>4</th>\n",
              "      <td>10400.0</td>\n",
              "      <td>60 months</td>\n",
              "      <td>22.45</td>\n",
              "      <td>289.91</td>\n",
              "      <td>F</td>\n",
              "      <td>3 years</td>\n",
              "      <td>MORTGAGE</td>\n",
              "      <td>104433.0</td>\n",
              "      <td>Source Verified</td>\n",
              "      <td>n</td>\n",
              "      <td>174xx</td>\n",
              "      <td>PA</td>\n",
              "      <td>25.37</td>\n",
              "      <td>695.0</td>\n",
              "      <td>699.0</td>\n",
              "      <td>12.0</td>\n",
              "      <td>0.0</td>\n",
              "      <td>21929.0</td>\n",
              "      <td>64.5</td>\n",
              "      <td>35.0</td>\n",
              "      <td>6.0</td>\n",
              "      <td>0.0</td>\n",
              "      <td>Contract Specialist major_purchase Major purchase</td>\n",
              "    </tr>\n",
              "    <tr>\n",
              "      <th>5</th>\n",
              "      <td>11950.0</td>\n",
              "      <td>36 months</td>\n",
              "      <td>13.44</td>\n",
              "      <td>405.18</td>\n",
              "      <td>C</td>\n",
              "      <td>4 years</td>\n",
              "      <td>RENT</td>\n",
              "      <td>34000.0</td>\n",
              "      <td>Source Verified</td>\n",
              "      <td>n</td>\n",
              "      <td>300xx</td>\n",
              "      <td>GA</td>\n",
              "      <td>10.20</td>\n",
              "      <td>690.0</td>\n",
              "      <td>694.0</td>\n",
              "      <td>5.0</td>\n",
              "      <td>0.0</td>\n",
              "      <td>8822.0</td>\n",
              "      <td>68.4</td>\n",
              "      <td>6.0</td>\n",
              "      <td>0.0</td>\n",
              "      <td>0.0</td>\n",
              "      <td>Veterinary Tecnician debt_consolidation Debt c...</td>\n",
              "    </tr>\n",
              "  </tbody>\n",
              "</table>\n",
              "</div>"
            ],
            "text/plain": [
              "   loan_amnt  ...                                               text\n",
              "0     3600.0  ...      leadman debt_consolidation Debt consolidation\n",
              "1    24700.0  ...                   Engineer small_business Business\n",
              "3    35000.0  ...  Information Systems Officer debt_consolidation...\n",
              "4    10400.0  ...  Contract Specialist major_purchase Major purchase\n",
              "5    11950.0  ...  Veterinary Tecnician debt_consolidation Debt c...\n",
              "\n",
              "[5 rows x 23 columns]"
            ]
          },
          "metadata": {},
          "execution_count": 8
        }
      ]
    },
    {
      "cell_type": "markdown",
      "metadata": {
        "id": "f0OFMF4LnXBD"
      },
      "source": [
        "#### Encoding Categorical Data"
      ]
    },
    {
      "cell_type": "code",
      "metadata": {
        "id": "Bop_iqDeIdme",
        "colab": {
          "base_uri": "https://localhost:8080/",
          "height": 399
        },
        "outputId": "ba167898-9135-4132-9025-54c9c17a5648"
      },
      "source": [
        "def encode_categorical_data(columns):\n",
        "    for col in columns:\n",
        "        data[col]=pd.Categorical(data[col])\n",
        "        data[col]= data[col].cat.codes\n",
        "\n",
        "encode_categorical_data([\"grade\", \"term\", \"pymnt_plan\", \"emp_length\", \"verification_status\", \"home_ownership\", \"zip_code\", \"addr_state\"])\n",
        "\n",
        "data.head()"
      ],
      "execution_count": 9,
      "outputs": [
        {
          "output_type": "execute_result",
          "data": {
            "text/html": [
              "<div>\n",
              "<style scoped>\n",
              "    .dataframe tbody tr th:only-of-type {\n",
              "        vertical-align: middle;\n",
              "    }\n",
              "\n",
              "    .dataframe tbody tr th {\n",
              "        vertical-align: top;\n",
              "    }\n",
              "\n",
              "    .dataframe thead th {\n",
              "        text-align: right;\n",
              "    }\n",
              "</style>\n",
              "<table border=\"1\" class=\"dataframe\">\n",
              "  <thead>\n",
              "    <tr style=\"text-align: right;\">\n",
              "      <th></th>\n",
              "      <th>loan_amnt</th>\n",
              "      <th>term</th>\n",
              "      <th>int_rate</th>\n",
              "      <th>installment</th>\n",
              "      <th>grade</th>\n",
              "      <th>emp_length</th>\n",
              "      <th>home_ownership</th>\n",
              "      <th>annual_inc</th>\n",
              "      <th>verification_status</th>\n",
              "      <th>pymnt_plan</th>\n",
              "      <th>zip_code</th>\n",
              "      <th>addr_state</th>\n",
              "      <th>dti</th>\n",
              "      <th>fico_range_low</th>\n",
              "      <th>fico_range_high</th>\n",
              "      <th>open_acc</th>\n",
              "      <th>pub_rec</th>\n",
              "      <th>revol_bal</th>\n",
              "      <th>revol_util</th>\n",
              "      <th>total_acc</th>\n",
              "      <th>mort_acc</th>\n",
              "      <th>tax_liens</th>\n",
              "      <th>text</th>\n",
              "    </tr>\n",
              "  </thead>\n",
              "  <tbody>\n",
              "    <tr>\n",
              "      <th>0</th>\n",
              "      <td>3600.0</td>\n",
              "      <td>0</td>\n",
              "      <td>13.99</td>\n",
              "      <td>123.03</td>\n",
              "      <td>2</td>\n",
              "      <td>1</td>\n",
              "      <td>1</td>\n",
              "      <td>55000.0</td>\n",
              "      <td>0</td>\n",
              "      <td>0</td>\n",
              "      <td>183</td>\n",
              "      <td>38</td>\n",
              "      <td>5.91</td>\n",
              "      <td>675.0</td>\n",
              "      <td>679.0</td>\n",
              "      <td>7.0</td>\n",
              "      <td>0.0</td>\n",
              "      <td>2765.0</td>\n",
              "      <td>29.7</td>\n",
              "      <td>13.0</td>\n",
              "      <td>1.0</td>\n",
              "      <td>0.0</td>\n",
              "      <td>leadman debt_consolidation Debt consolidation</td>\n",
              "    </tr>\n",
              "    <tr>\n",
              "      <th>1</th>\n",
              "      <td>24700.0</td>\n",
              "      <td>0</td>\n",
              "      <td>11.99</td>\n",
              "      <td>820.28</td>\n",
              "      <td>2</td>\n",
              "      <td>1</td>\n",
              "      <td>1</td>\n",
              "      <td>65000.0</td>\n",
              "      <td>0</td>\n",
              "      <td>0</td>\n",
              "      <td>555</td>\n",
              "      <td>41</td>\n",
              "      <td>16.06</td>\n",
              "      <td>715.0</td>\n",
              "      <td>719.0</td>\n",
              "      <td>22.0</td>\n",
              "      <td>0.0</td>\n",
              "      <td>21470.0</td>\n",
              "      <td>19.2</td>\n",
              "      <td>38.0</td>\n",
              "      <td>4.0</td>\n",
              "      <td>0.0</td>\n",
              "      <td>Engineer small_business Business</td>\n",
              "    </tr>\n",
              "    <tr>\n",
              "      <th>3</th>\n",
              "      <td>35000.0</td>\n",
              "      <td>1</td>\n",
              "      <td>14.85</td>\n",
              "      <td>829.90</td>\n",
              "      <td>2</td>\n",
              "      <td>1</td>\n",
              "      <td>1</td>\n",
              "      <td>110000.0</td>\n",
              "      <td>1</td>\n",
              "      <td>0</td>\n",
              "      <td>70</td>\n",
              "      <td>31</td>\n",
              "      <td>17.06</td>\n",
              "      <td>785.0</td>\n",
              "      <td>789.0</td>\n",
              "      <td>13.0</td>\n",
              "      <td>0.0</td>\n",
              "      <td>7802.0</td>\n",
              "      <td>11.6</td>\n",
              "      <td>17.0</td>\n",
              "      <td>1.0</td>\n",
              "      <td>0.0</td>\n",
              "      <td>Information Systems Officer debt_consolidation...</td>\n",
              "    </tr>\n",
              "    <tr>\n",
              "      <th>4</th>\n",
              "      <td>10400.0</td>\n",
              "      <td>1</td>\n",
              "      <td>22.45</td>\n",
              "      <td>289.91</td>\n",
              "      <td>5</td>\n",
              "      <td>3</td>\n",
              "      <td>1</td>\n",
              "      <td>104433.0</td>\n",
              "      <td>1</td>\n",
              "      <td>0</td>\n",
              "      <td>167</td>\n",
              "      <td>38</td>\n",
              "      <td>25.37</td>\n",
              "      <td>695.0</td>\n",
              "      <td>699.0</td>\n",
              "      <td>12.0</td>\n",
              "      <td>0.0</td>\n",
              "      <td>21929.0</td>\n",
              "      <td>64.5</td>\n",
              "      <td>35.0</td>\n",
              "      <td>6.0</td>\n",
              "      <td>0.0</td>\n",
              "      <td>Contract Specialist major_purchase Major purchase</td>\n",
              "    </tr>\n",
              "    <tr>\n",
              "      <th>5</th>\n",
              "      <td>11950.0</td>\n",
              "      <td>0</td>\n",
              "      <td>13.44</td>\n",
              "      <td>405.18</td>\n",
              "      <td>2</td>\n",
              "      <td>4</td>\n",
              "      <td>5</td>\n",
              "      <td>34000.0</td>\n",
              "      <td>1</td>\n",
              "      <td>0</td>\n",
              "      <td>291</td>\n",
              "      <td>10</td>\n",
              "      <td>10.20</td>\n",
              "      <td>690.0</td>\n",
              "      <td>694.0</td>\n",
              "      <td>5.0</td>\n",
              "      <td>0.0</td>\n",
              "      <td>8822.0</td>\n",
              "      <td>68.4</td>\n",
              "      <td>6.0</td>\n",
              "      <td>0.0</td>\n",
              "      <td>0.0</td>\n",
              "      <td>Veterinary Tecnician debt_consolidation Debt c...</td>\n",
              "    </tr>\n",
              "  </tbody>\n",
              "</table>\n",
              "</div>"
            ],
            "text/plain": [
              "   loan_amnt  ...                                               text\n",
              "0     3600.0  ...      leadman debt_consolidation Debt consolidation\n",
              "1    24700.0  ...                   Engineer small_business Business\n",
              "3    35000.0  ...  Information Systems Officer debt_consolidation...\n",
              "4    10400.0  ...  Contract Specialist major_purchase Major purchase\n",
              "5    11950.0  ...  Veterinary Tecnician debt_consolidation Debt c...\n",
              "\n",
              "[5 rows x 23 columns]"
            ]
          },
          "metadata": {},
          "execution_count": 9
        }
      ]
    },
    {
      "cell_type": "markdown",
      "metadata": {
        "id": "Fl8SIs6rrHzj"
      },
      "source": [
        "#### Tokenizing Text Data"
      ]
    },
    {
      "cell_type": "code",
      "metadata": {
        "id": "Osoyd62PM-sw"
      },
      "source": [
        "#Preparig text data to fit tokenizer\n",
        "texts=list(data['text'])\n",
        "modified_text=[]\n",
        "\n",
        "for i in range(len(data['text'])):\n",
        "    str= texts[i].replace('_', ' ')\n",
        "    modified_text.append(str)\n",
        "data['text']= modified_text\n",
        "\n",
        "#fitting text data on tokenizer\n",
        "tokenizer= tf.keras.preprocessing.text.Tokenizer(lower=True, split=' ', oov_token=1)\n",
        "tokenizer.fit_on_texts(data['text'])\n"
      ],
      "execution_count": 10,
      "outputs": []
    },
    {
      "cell_type": "code",
      "metadata": {
        "id": "uAUQ2r7DQo1y"
      },
      "source": [
        "#tokenizing text data\n",
        "sequence= tokenizer.texts_to_sequences(data['text'])\n",
        "sequence= tf.keras.preprocessing.sequence.pad_sequences(sequence, padding='post', value=0 )\n",
        "data['sequence']=list(sequence)"
      ],
      "execution_count": 11,
      "outputs": []
    },
    {
      "cell_type": "markdown",
      "metadata": {
        "id": "YH8ow5Fpsxn2"
      },
      "source": [
        "#### Splitting dataset into Training, Validation and Test sets\n",
        "\n",
        ">  Training set: 80% \\\\\n",
        "   Validation set: 10% \\\\\n",
        "   Test set: 10%\n",
        "\n",
        "\n",
        "\n",
        "\n",
        "\n",
        "\n"
      ]
    },
    {
      "cell_type": "code",
      "metadata": {
        "id": "IjkbKx8oUJVs"
      },
      "source": [
        "\n",
        "y= data['grade']\n",
        "x=data.drop(['text', \"grade\"], axis=1)\n",
        "\n",
        "\n",
        "x_train, x_test,y_train, y_test= train_test_split(x, y, test_size=0.2, random_state=1)\n",
        "\n",
        "x_test, x_val,y_test, y_val= train_test_split(x_test, y_test, test_size=0.5, random_state=1)\n"
      ],
      "execution_count": 12,
      "outputs": []
    },
    {
      "cell_type": "code",
      "metadata": {
        "id": "0XTFND21WcMu"
      },
      "source": [
        "train_sequence= list(x_train['sequence'])\n",
        "test_sequence= list(x_test['sequence'])\n",
        "val_sequence= list(x_val['sequence'])\n",
        "\n",
        "x_train= x_train.drop('sequence', axis=1 )\n",
        "x_test= x_test.drop('sequence', axis=1)\n",
        "x_val= x_val.drop('sequence', axis=1)"
      ],
      "execution_count": 13,
      "outputs": []
    },
    {
      "cell_type": "code",
      "metadata": {
        "id": "iHD-NheQgqkF"
      },
      "source": [
        "#normalizing datasets\n",
        "x_train=(x_train-x_train.mean())/x_train.std()\n",
        "x_val=(x_val-x_val.mean())/x_val.std()\n",
        "x_test=(x_test-x_test.mean())/x_test.std()"
      ],
      "execution_count": 14,
      "outputs": []
    },
    {
      "cell_type": "code",
      "metadata": {
        "id": "vMaPTXbmnv7j"
      },
      "source": [
        "#Using Tesorflow Dataset API to make input pipeline much more effecient \n",
        "training_data= tf.data.Dataset.from_tensor_slices((x_train.values, train_sequence, y_train.values))\n",
        "validation_data= tf.data.Dataset.from_tensor_slices((x_val.values, val_sequence,y_val.values))\n",
        "test_data= tf.data.Dataset.from_tensor_slices((x_test.values, test_sequence, y_test.values))"
      ],
      "execution_count": 15,
      "outputs": []
    },
    {
      "cell_type": "code",
      "metadata": {
        "id": "v_BhikGyqmnr"
      },
      "source": [
        "training_data= training_data.batch(256)\n",
        "validation_data=validation_data.batch(513)\n",
        "test_data= test_data.batch(512)"
      ],
      "execution_count": 16,
      "outputs": []
    },
    {
      "cell_type": "markdown",
      "metadata": {
        "id": "zb5FOEwbs_9g"
      },
      "source": [
        "#Training Model"
      ]
    },
    {
      "cell_type": "code",
      "metadata": {
        "id": "hyKqYRBQoGOT"
      },
      "source": [
        " with tf.device('/GPU:0'): \n",
        "    model= LoanGrader(2, 128, 4, 256, max_positional_encoding=25)\n"
      ],
      "execution_count": 17,
      "outputs": []
    },
    {
      "cell_type": "code",
      "metadata": {
        "id": "N_7Hm1C0oIeI",
        "colab": {
          "base_uri": "https://localhost:8080/"
        },
        "outputId": "593fabbc-25c5-4f48-8d53-73ce29a23550"
      },
      "source": [
        "for x, seq, y in training_data:\n",
        "    model(x, seq)\n",
        "    break\n",
        "\n",
        "model.summary()"
      ],
      "execution_count": 18,
      "outputs": [
        {
          "output_type": "stream",
          "name": "stdout",
          "text": [
            "Model: \"loan_grader\"\n",
            "_________________________________________________________________\n",
            "Layer (type)                 Output Shape              Param #   \n",
            "=================================================================\n",
            "encoder (Encoder)            multiple                  11093376  \n",
            "_________________________________________________________________\n",
            "flatten (Flatten)            multiple                  0         \n",
            "_________________________________________________________________\n",
            "concatenate (Concatenate)    multiple                  0         \n",
            "_________________________________________________________________\n",
            "dense_12 (Dense)             multiple                  412416    \n",
            "_________________________________________________________________\n",
            "dense_13 (Dense)             multiple                  8256      \n",
            "_________________________________________________________________\n",
            "dense_14 (Dense)             multiple                  4160      \n",
            "_________________________________________________________________\n",
            "dense_15 (Dense)             multiple                  2080      \n",
            "_________________________________________________________________\n",
            "dense_16 (Dense)             multiple                  231       \n",
            "=================================================================\n",
            "Total params: 11,520,519\n",
            "Trainable params: 11,520,519\n",
            "Non-trainable params: 0\n",
            "_________________________________________________________________\n"
          ]
        }
      ]
    },
    {
      "cell_type": "code",
      "metadata": {
        "id": "qLI3Fq0EoKRl",
        "colab": {
          "base_uri": "https://localhost:8080/"
        },
        "outputId": "cd44fa27-090d-4b38-f2e7-1cafed0e4c56"
      },
      "source": [
        "from sklearn.utils import class_weight\n",
        "\n",
        "class_weights = class_weight.compute_class_weight('balanced',\n",
        "                                                 np.unique(y_train),\n",
        "                                                 y_train)\n",
        "class_weights"
      ],
      "execution_count": 19,
      "outputs": [
        {
          "output_type": "execute_result",
          "data": {
            "text/plain": [
              "array([ 0.74388348,  0.48534454,  0.49873275,  1.0001332 ,  2.36852292,\n",
              "        7.65179186, 26.68775332])"
            ]
          },
          "metadata": {},
          "execution_count": 19
        }
      ]
    },
    {
      "cell_type": "code",
      "metadata": {
        "id": "4OS9tOVj3uOu"
      },
      "source": [
        "\n",
        "optimizer=tf.keras.optimizers.Adam(learning_rate=0.001) \n",
        "model.compile(optimizer=optimizer)"
      ],
      "execution_count": 20,
      "outputs": []
    },
    {
      "cell_type": "code",
      "metadata": {
        "colab": {
          "base_uri": "https://localhost:8080/",
          "height": 1000
        },
        "id": "avZgcexLn421",
        "outputId": "2ca59ea9-46d7-4691-df1d-1bb62c2183d1"
      },
      "source": [
        "\n",
        "with tf.device('/GPU:0'): \n",
        "    model.train(training_data, epochs=20, validation_data=validation_data) "
      ],
      "execution_count": 21,
      "outputs": [
        {
          "output_type": "stream",
          "name": "stdout",
          "text": [
            "Epoch  1  :\n"
          ]
        },
        {
          "output_type": "display_data",
          "data": {
            "application/vnd.google.colaboratory.intrinsic+json": {
              "type": "string"
            },
            "text/plain": [
              "'     100% Compleated  | Loss 0.3776 | Accuracy 83.51% | Time: 4.0 mins'"
            ]
          },
          "metadata": {}
        },
        {
          "output_type": "display_data",
          "data": {
            "application/vnd.google.colaboratory.intrinsic+json": {
              "type": "string"
            },
            "text/plain": [
              "'   Validation: 100% Compleated | Loss 0.3166 Accuracy | 84.71% | Time: 0.0 mins'"
            ]
          },
          "metadata": {}
        },
        {
          "output_type": "stream",
          "name": "stdout",
          "text": [
            "Epoch  2  :\n"
          ]
        },
        {
          "output_type": "display_data",
          "data": {
            "application/vnd.google.colaboratory.intrinsic+json": {
              "type": "string"
            },
            "text/plain": [
              "'     100% Compleated  | Loss 0.2969 | Accuracy 86.61% | Time: 4.0 mins'"
            ]
          },
          "metadata": {}
        },
        {
          "output_type": "display_data",
          "data": {
            "application/vnd.google.colaboratory.intrinsic+json": {
              "type": "string"
            },
            "text/plain": [
              "'   Validation: 100% Compleated | Loss 0.3066 Accuracy | 85.46% | Time: 0.0 mins'"
            ]
          },
          "metadata": {}
        },
        {
          "output_type": "stream",
          "name": "stdout",
          "text": [
            "Epoch  3  :\n"
          ]
        },
        {
          "output_type": "display_data",
          "data": {
            "application/vnd.google.colaboratory.intrinsic+json": {
              "type": "string"
            },
            "text/plain": [
              "'     100% Compleated  | Loss 0.2767 | Accuracy 87.51% | Time: 4.0 mins'"
            ]
          },
          "metadata": {}
        },
        {
          "output_type": "display_data",
          "data": {
            "application/vnd.google.colaboratory.intrinsic+json": {
              "type": "string"
            },
            "text/plain": [
              "'   Validation: 100% Compleated | Loss 0.2747 Accuracy | 87.43% | Time: 0.0 mins'"
            ]
          },
          "metadata": {}
        },
        {
          "output_type": "stream",
          "name": "stdout",
          "text": [
            "Epoch  4  :\n"
          ]
        },
        {
          "output_type": "display_data",
          "data": {
            "application/vnd.google.colaboratory.intrinsic+json": {
              "type": "string"
            },
            "text/plain": [
              "'     100% Compleated  | Loss 0.2644 | Accuracy 87.99% | Time: 4.0 mins'"
            ]
          },
          "metadata": {}
        },
        {
          "output_type": "display_data",
          "data": {
            "application/vnd.google.colaboratory.intrinsic+json": {
              "type": "string"
            },
            "text/plain": [
              "'   Validation: 100% Compleated | Loss 0.2869 Accuracy | 86.86% | Time: 0.0 mins'"
            ]
          },
          "metadata": {}
        },
        {
          "output_type": "stream",
          "name": "stdout",
          "text": [
            "Epoch  5  :\n"
          ]
        },
        {
          "output_type": "display_data",
          "data": {
            "application/vnd.google.colaboratory.intrinsic+json": {
              "type": "string"
            },
            "text/plain": [
              "'     100% Compleated  | Loss 0.2501 | Accuracy 88.58% | Time: 4.0 mins'"
            ]
          },
          "metadata": {}
        },
        {
          "output_type": "display_data",
          "data": {
            "application/vnd.google.colaboratory.intrinsic+json": {
              "type": "string"
            },
            "text/plain": [
              "'   Validation: 100% Compleated | Loss 0.2649 Accuracy | 87.76% | Time: 0.0 mins'"
            ]
          },
          "metadata": {}
        },
        {
          "output_type": "stream",
          "name": "stdout",
          "text": [
            "Epoch  6  :\n"
          ]
        },
        {
          "output_type": "display_data",
          "data": {
            "application/vnd.google.colaboratory.intrinsic+json": {
              "type": "string"
            },
            "text/plain": [
              "'     100% Compleated  | Loss 0.2389 | Accuracy 89.14% | Time: 4.0 mins'"
            ]
          },
          "metadata": {}
        },
        {
          "output_type": "display_data",
          "data": {
            "application/vnd.google.colaboratory.intrinsic+json": {
              "type": "string"
            },
            "text/plain": [
              "'   Validation: 100% Compleated | Loss 0.2657 Accuracy | 87.82% | Time: 0.0 mins'"
            ]
          },
          "metadata": {}
        },
        {
          "output_type": "stream",
          "name": "stdout",
          "text": [
            "Epoch  7  :\n"
          ]
        },
        {
          "output_type": "display_data",
          "data": {
            "application/vnd.google.colaboratory.intrinsic+json": {
              "type": "string"
            },
            "text/plain": [
              "'     100% Compleated  | Loss 0.2321 | Accuracy 89.46% | Time: 4.0 mins'"
            ]
          },
          "metadata": {}
        },
        {
          "output_type": "display_data",
          "data": {
            "application/vnd.google.colaboratory.intrinsic+json": {
              "type": "string"
            },
            "text/plain": [
              "'   Validation: 100% Compleated | Loss 0.2684 Accuracy | 87.82% | Time: 0.0 mins'"
            ]
          },
          "metadata": {}
        },
        {
          "output_type": "stream",
          "name": "stdout",
          "text": [
            "Epoch  8  :\n"
          ]
        },
        {
          "output_type": "display_data",
          "data": {
            "application/vnd.google.colaboratory.intrinsic+json": {
              "type": "string"
            },
            "text/plain": [
              "'     100% Compleated  | Loss 0.2248 | Accuracy 89.81% | Time: 4.0 mins'"
            ]
          },
          "metadata": {}
        },
        {
          "output_type": "display_data",
          "data": {
            "application/vnd.google.colaboratory.intrinsic+json": {
              "type": "string"
            },
            "text/plain": [
              "'   Validation: 100% Compleated | Loss 0.2477 Accuracy | 88.72% | Time: 0.0 mins'"
            ]
          },
          "metadata": {}
        },
        {
          "output_type": "stream",
          "name": "stdout",
          "text": [
            "Epoch  9  :\n"
          ]
        },
        {
          "output_type": "display_data",
          "data": {
            "application/vnd.google.colaboratory.intrinsic+json": {
              "type": "string"
            },
            "text/plain": [
              "'     100% Compleated  | Loss 0.2193 | Accuracy 90.09% | Time: 4.0 mins'"
            ]
          },
          "metadata": {}
        },
        {
          "output_type": "display_data",
          "data": {
            "application/vnd.google.colaboratory.intrinsic+json": {
              "type": "string"
            },
            "text/plain": [
              "'   Validation: 100% Compleated | Loss 0.2486 Accuracy | 88.88% | Time: 0.0 mins'"
            ]
          },
          "metadata": {}
        },
        {
          "output_type": "stream",
          "name": "stdout",
          "text": [
            "Epoch  10  :\n"
          ]
        },
        {
          "output_type": "display_data",
          "data": {
            "application/vnd.google.colaboratory.intrinsic+json": {
              "type": "string"
            },
            "text/plain": [
              "'     100% Compleated  | Loss 0.2151 | Accuracy 90.29% | Time: 4.0 mins'"
            ]
          },
          "metadata": {}
        },
        {
          "output_type": "display_data",
          "data": {
            "application/vnd.google.colaboratory.intrinsic+json": {
              "type": "string"
            },
            "text/plain": [
              "'   Validation: 100% Compleated | Loss 0.2293 Accuracy | 89.84% | Time: 0.0 mins'"
            ]
          },
          "metadata": {}
        },
        {
          "output_type": "stream",
          "name": "stdout",
          "text": [
            "Epoch  11  :\n"
          ]
        },
        {
          "output_type": "display_data",
          "data": {
            "application/vnd.google.colaboratory.intrinsic+json": {
              "type": "string"
            },
            "text/plain": [
              "'     100% Compleated  | Loss 0.2119 | Accuracy 90.45% | Time: 4.0 mins'"
            ]
          },
          "metadata": {}
        },
        {
          "output_type": "display_data",
          "data": {
            "application/vnd.google.colaboratory.intrinsic+json": {
              "type": "string"
            },
            "text/plain": [
              "'   Validation: 100% Compleated | Loss 0.2438 Accuracy | 89.00% | Time: 0.0 mins'"
            ]
          },
          "metadata": {}
        },
        {
          "output_type": "stream",
          "name": "stdout",
          "text": [
            "Epoch  12  :\n"
          ]
        },
        {
          "output_type": "display_data",
          "data": {
            "application/vnd.google.colaboratory.intrinsic+json": {
              "type": "string"
            },
            "text/plain": [
              "'     100% Compleated  | Loss 0.2090 | Accuracy 90.62% | Time: 4.0 mins'"
            ]
          },
          "metadata": {}
        },
        {
          "output_type": "display_data",
          "data": {
            "application/vnd.google.colaboratory.intrinsic+json": {
              "type": "string"
            },
            "text/plain": [
              "'   Validation: 100% Compleated | Loss 0.2399 Accuracy | 89.52% | Time: 0.0 mins'"
            ]
          },
          "metadata": {}
        },
        {
          "output_type": "stream",
          "name": "stdout",
          "text": [
            "Epoch  13  :\n"
          ]
        },
        {
          "output_type": "display_data",
          "data": {
            "application/vnd.google.colaboratory.intrinsic+json": {
              "type": "string"
            },
            "text/plain": [
              "'     100% Compleated  | Loss 0.2069 | Accuracy 90.71% | Time: 4.0 mins'"
            ]
          },
          "metadata": {}
        },
        {
          "output_type": "display_data",
          "data": {
            "application/vnd.google.colaboratory.intrinsic+json": {
              "type": "string"
            },
            "text/plain": [
              "'   Validation: 100% Compleated | Loss 0.2334 Accuracy | 89.59% | Time: 0.0 mins'"
            ]
          },
          "metadata": {}
        },
        {
          "output_type": "stream",
          "name": "stdout",
          "text": [
            "Epoch  14  :\n"
          ]
        },
        {
          "output_type": "display_data",
          "data": {
            "application/vnd.google.colaboratory.intrinsic+json": {
              "type": "string"
            },
            "text/plain": [
              "'     100% Compleated  | Loss 0.2041 | Accuracy 90.85% | Time: 4.0 mins'"
            ]
          },
          "metadata": {}
        },
        {
          "output_type": "display_data",
          "data": {
            "application/vnd.google.colaboratory.intrinsic+json": {
              "type": "string"
            },
            "text/plain": [
              "'   Validation: 100% Compleated | Loss 0.2342 Accuracy | 89.86% | Time: 0.0 mins'"
            ]
          },
          "metadata": {}
        },
        {
          "output_type": "stream",
          "name": "stdout",
          "text": [
            "Epoch  15  :\n"
          ]
        },
        {
          "output_type": "display_data",
          "data": {
            "application/vnd.google.colaboratory.intrinsic+json": {
              "type": "string"
            },
            "text/plain": [
              "'     100% Compleated  | Loss 0.2016 | Accuracy 90.98% | Time: 4.0 mins'"
            ]
          },
          "metadata": {}
        },
        {
          "output_type": "display_data",
          "data": {
            "application/vnd.google.colaboratory.intrinsic+json": {
              "type": "string"
            },
            "text/plain": [
              "'   Validation: 100% Compleated | Loss 0.2302 Accuracy | 89.98% | Time: 0.0 mins'"
            ]
          },
          "metadata": {}
        },
        {
          "output_type": "stream",
          "name": "stdout",
          "text": [
            "Epoch  16  :\n"
          ]
        },
        {
          "output_type": "display_data",
          "data": {
            "application/vnd.google.colaboratory.intrinsic+json": {
              "type": "string"
            },
            "text/plain": [
              "'     100% Compleated  | Loss 0.1997 | Accuracy 91.08% | Time: 4.0 mins'"
            ]
          },
          "metadata": {}
        },
        {
          "output_type": "display_data",
          "data": {
            "application/vnd.google.colaboratory.intrinsic+json": {
              "type": "string"
            },
            "text/plain": [
              "'   Validation: 100% Compleated | Loss 0.2296 Accuracy | 89.93% | Time: 0.0 mins'"
            ]
          },
          "metadata": {}
        },
        {
          "output_type": "stream",
          "name": "stdout",
          "text": [
            "Epoch  17  :\n"
          ]
        },
        {
          "output_type": "display_data",
          "data": {
            "application/vnd.google.colaboratory.intrinsic+json": {
              "type": "string"
            },
            "text/plain": [
              "'     100% Compleated  | Loss 0.1970 | Accuracy 91.19% | Time: 4.0 mins'"
            ]
          },
          "metadata": {}
        },
        {
          "output_type": "display_data",
          "data": {
            "application/vnd.google.colaboratory.intrinsic+json": {
              "type": "string"
            },
            "text/plain": [
              "'   Validation: 100% Compleated | Loss 0.2276 Accuracy | 90.02% | Time: 0.0 mins'"
            ]
          },
          "metadata": {}
        },
        {
          "output_type": "stream",
          "name": "stdout",
          "text": [
            "Epoch  18  :\n"
          ]
        },
        {
          "output_type": "display_data",
          "data": {
            "application/vnd.google.colaboratory.intrinsic+json": {
              "type": "string"
            },
            "text/plain": [
              "'     100% Compleated  | Loss 0.1946 | Accuracy 91.30% | Time: 4.0 mins'"
            ]
          },
          "metadata": {}
        },
        {
          "output_type": "display_data",
          "data": {
            "application/vnd.google.colaboratory.intrinsic+json": {
              "type": "string"
            },
            "text/plain": [
              "'   Validation: 100% Compleated | Loss 0.2202 Accuracy | 90.59% | Time: 0.0 mins'"
            ]
          },
          "metadata": {}
        },
        {
          "output_type": "stream",
          "name": "stdout",
          "text": [
            "Epoch  19  :\n"
          ]
        },
        {
          "output_type": "display_data",
          "data": {
            "application/vnd.google.colaboratory.intrinsic+json": {
              "type": "string"
            },
            "text/plain": [
              "'     100% Compleated  | Loss 0.1918 | Accuracy 91.42% | Time: 4.0 mins'"
            ]
          },
          "metadata": {}
        },
        {
          "output_type": "display_data",
          "data": {
            "application/vnd.google.colaboratory.intrinsic+json": {
              "type": "string"
            },
            "text/plain": [
              "'   Validation: 100% Compleated | Loss 0.2316 Accuracy | 89.94% | Time: 0.0 mins'"
            ]
          },
          "metadata": {}
        },
        {
          "output_type": "stream",
          "name": "stdout",
          "text": [
            "Epoch  20  :\n"
          ]
        },
        {
          "output_type": "display_data",
          "data": {
            "application/vnd.google.colaboratory.intrinsic+json": {
              "type": "string"
            },
            "text/plain": [
              "'     100% Compleated  | Loss 0.1888 | Accuracy 91.54% | Time: 4.0 mins'"
            ]
          },
          "metadata": {}
        },
        {
          "output_type": "display_data",
          "data": {
            "application/vnd.google.colaboratory.intrinsic+json": {
              "type": "string"
            },
            "text/plain": [
              "'   Validation: 100% Compleated | Loss 0.2268 Accuracy | 90.39% | Time: 0.0 mins'"
            ]
          },
          "metadata": {}
        }
      ]
    },
    {
      "cell_type": "code",
      "metadata": {
        "id": "D-wIWYdtE-PP",
        "colab": {
          "base_uri": "https://localhost:8080/"
        },
        "outputId": "4f19eb77-4c8a-4ccf-d342-e7d2f43e4561"
      },
      "source": [
        "accuracy, loss= model.evaluate(test_data)\n",
        "\n",
        "print(f\"Accuracy: {accuracy:.2f}\")\n",
        "print(f\"Loss: {loss:.4f}\")"
      ],
      "execution_count": 22,
      "outputs": [
        {
          "output_type": "stream",
          "name": "stdout",
          "text": [
            "Accuracy: 0.90\n",
            "Loss: 0.2487\n"
          ]
        }
      ]
    },
    {
      "cell_type": "code",
      "metadata": {
        "id": "SqqqNhPnhUjr",
        "colab": {
          "base_uri": "https://localhost:8080/",
          "height": 444
        },
        "outputId": "dc813d14-49e3-49e1-faa9-6e57b5d69c6a"
      },
      "source": [
        "\n",
        "fig, [accuracy, loss]= plt.subplots(ncols=2, figsize=(14,7))\n",
        "\n",
        "accuracy.plot( range(1,21,1), model.training_history[ 'training_loss'][1::2], label=\"Training Accuracy\")\n",
        "accuracy.plot( range(1,21,1), model.training_history['validation_accuracy'],  label= \"Validation Accuracy\")\n",
        "accuracy.legend()\n",
        "accuracy.set_xticks(range(1,21,1))\n",
        "accuracy.set_title(\"Accuracy vs Loss\")\n",
        "\n",
        "loss.plot( range(1,21,1), model.training_history[ 'training_loss'][0:-1:2], label=\"loss\")\n",
        "loss.plot( range(1,21,1), model.training_history['validation_loss'], label=\"Validation Loss\")\n",
        "loss.legend()\n",
        "loss.set_title(\"Loss vs Epoch\")\n",
        "loss.set_xticks(range(1,21,1))\n",
        "plt.show()"
      ],
      "execution_count": 46,
      "outputs": [
        {
          "output_type": "display_data",
          "data": {
            "image/png": "[encoded data removed]",
            "text/plain": [
              "<Figure size 1008x504 with 2 Axes>"
            ]
          },
          "metadata": {
            "needs_background": "light"
          }
        }
      ]
    }
  ]
}