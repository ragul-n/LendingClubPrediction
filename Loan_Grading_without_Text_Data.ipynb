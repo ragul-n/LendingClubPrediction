{
  "nbformat": 4,
  "nbformat_minor": 0,
  "metadata": {
    "accelerator": "GPU",
    "colab": {
      "name": "Loan Grading without Text Data.ipynb",
      "provenance": [],
      "collapsed_sections": [],
      "authorship_tag": "ABX9TyPYVWJUV69ST6jvpioouMXp",
      "include_colab_link": true
    },
    "kernelspec": {
      "display_name": "Python 3",
      "name": "python3"
    }
  },
  "cells": [
    {
      "cell_type": "markdown",
      "metadata": {
        "id": "view-in-github",
        "colab_type": "text"
      },
      "source": [
        "<a href=\"https://colab.research.google.com/github/ragul-n/LendingClubPredicction/blob/without_text_1/Loan_Grading_without_Text_Data.ipynb\" target=\"_parent\"><img src=\"https://colab.research.google.com/assets/colab-badge.svg\" alt=\"Open In Colab\"/></a>"
      ]
    },
    {
      "cell_type": "code",
      "metadata": {
        "id": "2xlR52rCCTMn"
      },
      "source": [
        "!pip install kaggle\n",
        "!pip install wordcloud"
      ],
      "execution_count": null,
      "outputs": []
    },
    {
      "cell_type": "markdown",
      "metadata": {
        "id": "CwzJ-2Ke2Cc2"
      },
      "source": [
        "Downloading data from Kaggle:\n",
        "\n",
        "* Upload your Kaggle API token (kaggle.json file) below to download data from kaggle.\n"
      ]
    },
    {
      "cell_type": "code",
      "metadata": {
        "colab": {
          "resources": {
            "http://localhost:8080/nbextensions/google.colab/files.js": {
              "data": "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",
              "ok": true,
              "headers": [
                [
                  "content-type",
                  "application/javascript"
                ]
              ],
              "status": 200,
              "status_text": ""
            }
          },
          "base_uri": "https://localhost:8080/",
          "height": 143
        },
        "id": "ZkZdCf4QDCDc",
        "outputId": "3cda2e42-54e6-439d-9b60-5a41f9a20506"
      },
      "source": [
        "from google.colab import files\n",
        "files.upload()\n",
        "\n",
        "! mkdir ~/.kaggle\n",
        "! cp kaggle.json ~/.kaggle/\n",
        "!kaggle datasets download -d wordsforthewise/lending-club"
      ],
      "execution_count": 2,
      "outputs": [
        {
          "output_type": "display_data",
          "data": {
            "text/html": [
              "\n",
              "     <input type=\"file\" id=\"files-d9d83bc0-5743-4bc7-a2e0-45dc25f99639\" name=\"files[]\" multiple disabled\n",
              "        style=\"border:none\" />\n",
              "     <output id=\"result-d9d83bc0-5743-4bc7-a2e0-45dc25f99639\">\n",
              "      Upload widget is only available when the cell has been executed in the\n",
              "      current browser session. Please rerun this cell to enable.\n",
              "      </output>\n",
              "      <script src=\"/nbextensions/google.colab/files.js\"></script> "
            ],
            "text/plain": [
              "<IPython.core.display.HTML object>"
            ]
          },
          "metadata": {
            "tags": []
          }
        },
        {
          "output_type": "stream",
          "text": [
            "Saving kaggle.json to kaggle.json\n",
            "Warning: Your Kaggle API key is readable by other users on this system! To fix this, you can run 'chmod 600 /root/.kaggle/kaggle.json'\n",
            "Downloading lending-club.zip to /content\n",
            " 98% 1.24G/1.26G [00:11<00:00, 87.2MB/s]\n",
            "100% 1.26G/1.26G [00:12<00:00, 113MB/s] \n"
          ],
          "name": "stdout"
        }
      ]
    },
    {
      "cell_type": "code",
      "metadata": {
        "colab": {
          "base_uri": "https://localhost:8080/"
        },
        "id": "ztCjFlnzDLL6",
        "outputId": "bee24804-11bd-416f-bdd7-dd26432e480e"
      },
      "source": [
        "!unzip lending-club.zip"
      ],
      "execution_count": 3,
      "outputs": [
        {
          "output_type": "stream",
          "text": [
            "Archive:  lending-club.zip\n",
            "  inflating: accepted_2007_to_2018Q4.csv.gz  \n",
            "  inflating: accepted_2007_to_2018q4.csv/accepted_2007_to_2018Q4.csv  \n",
            "  inflating: rejected_2007_to_2018Q4.csv.gz  \n",
            "  inflating: rejected_2007_to_2018q4.csv/rejected_2007_to_2018Q4.csv  \n"
          ],
          "name": "stdout"
        }
      ]
    },
    {
      "cell_type": "code",
      "metadata": {
        "id": "AfOPCYgJXbkK"
      },
      "source": [
        "import pandas as pd\n",
        "import numpy as np\n",
        "import tensorflow as tf\n",
        "import matplotlib.pyplot as plt\n",
        "from IPython.display import display\n",
        "import time"
      ],
      "execution_count": 2,
      "outputs": []
    },
    {
      "cell_type": "markdown",
      "metadata": {
        "id": "uchI_GVgucH6"
      },
      "source": [
        "#Cleaning Dataset"
      ]
    },
    {
      "cell_type": "code",
      "metadata": {
        "id": "hqCd9k_NPCEB"
      },
      "source": [
        "\n",
        "#columns to be used\n",
        "cols= [\"loan_amnt\" ,'term' ,'int_rate' , 'installment' ,'grade'  ,'emp_length' ,'home_ownership' ,'annual_inc' , 'dti' ,'verification_status' ,'issue_d' ,'loan_status' ,\n",
        "            'pymnt_plan'  ,'zip_code' ,'addr_state' ,'dti' ,'fico_range_low' ,'fico_range_high' ,'tax_liens', \"open_acc\", \"pub_rec\",\n",
        "        \"revol_bal\", \"revol_util\", \"total_acc\", \"mort_acc\", 'application_type']\n",
        "\n"
      ],
      "execution_count": 3,
      "outputs": []
    },
    {
      "cell_type": "code",
      "metadata": {
        "id": "TDNVGoG-Xqz8"
      },
      "source": [
        "accepted_loans = pd.read_csv(\"/content/accepted_2007_to_2018Q4.csv.gz\",  low_memory=False, usecols=cols)\n",
        "\n",
        "accepted_loans.drop(accepted_loans.tail(2).index, \n",
        "        inplace = True)\n",
        "\n",
        "accepted_loans = accepted_loans[accepted_loans['application_type'] ==\"Individual\"]\n",
        "\n",
        "accepted_loans= accepted_loans[[(not i) for i in accepted_loans['loan_amnt'].isna()]]"
      ],
      "execution_count": 4,
      "outputs": []
    },
    {
      "cell_type": "code",
      "metadata": {
        "id": "YbrX9k8AX63N"
      },
      "source": [
        "data=data.fillna({ \"home_ownership\":\"not known\", \"emp_length\": \"not known\", \"zip_code\": \"000XX\"})\n",
        "data=data.fillna(data.mean(numeric_only=True))"
      ],
      "execution_count": 9,
      "outputs": []
    },
    {
      "cell_type": "markdown",
      "metadata": {
        "id": "bQebveEqgAXP"
      },
      "source": [
        "Distribution of Loan Grades "
      ]
    },
    {
      "cell_type": "code",
      "metadata": {
        "colab": {
          "base_uri": "https://localhost:8080/",
          "height": 299
        },
        "id": "Kclk4WKlE-UE",
        "outputId": "1a4d2121-f121-4cba-f053-60bbab674791"
      },
      "source": [
        "val=dict(accepted_loans.groupby(\"grade\")[\"grade\"].count())\n",
        "\n",
        "plt.bar( val.keys(),val.values(), width=0.8 )\n",
        "plt.title(\"Loan Grade Distribution\")"
      ],
      "execution_count": 11,
      "outputs": [
        {
          "output_type": "execute_result",
          "data": {
            "text/plain": [
              "Text(0.5, 1.0, 'Loan Grade Distribution')"
            ]
          },
          "metadata": {
            "tags": []
          },
          "execution_count": 11
        },
        {
          "output_type": "display_data",
          "data": {
            "image/png": "[encoded data removed]",
            "text/plain": [
              "<Figure size 432x288 with 1 Axes>"
            ]
          },
          "metadata": {
            "tags": [],
            "needs_background": "light"
          }
        }
      ]
    },
    {
      "cell_type": "markdown",
      "metadata": {
        "id": "vvb04tNNgaAP"
      },
      "source": [
        "#preparing Data for training"
      ]
    },
    {
      "cell_type": "code",
      "metadata": {
        "colab": {
          "base_uri": "https://localhost:8080/",
          "height": 313
        },
        "id": "ndkh5xa1KN1g",
        "outputId": "0f64e217-67dc-43b8-9f0e-72229a43a267"
      },
      "source": [
        "data.head()"
      ],
      "execution_count": 12,
      "outputs": [
        {
          "output_type": "execute_result",
          "data": {
            "text/html": [
              "<div>\n",
              "<style scoped>\n",
              "    .dataframe tbody tr th:only-of-type {\n",
              "        vertical-align: middle;\n",
              "    }\n",
              "\n",
              "    .dataframe tbody tr th {\n",
              "        vertical-align: top;\n",
              "    }\n",
              "\n",
              "    .dataframe thead th {\n",
              "        text-align: right;\n",
              "    }\n",
              "</style>\n",
              "<table border=\"1\" class=\"dataframe\">\n",
              "  <thead>\n",
              "    <tr style=\"text-align: right;\">\n",
              "      <th></th>\n",
              "      <th>loan_amnt</th>\n",
              "      <th>term</th>\n",
              "      <th>int_rate</th>\n",
              "      <th>installment</th>\n",
              "      <th>grade</th>\n",
              "      <th>emp_length</th>\n",
              "      <th>home_ownership</th>\n",
              "      <th>annual_inc</th>\n",
              "      <th>verification_status</th>\n",
              "      <th>pymnt_plan</th>\n",
              "      <th>zip_code</th>\n",
              "      <th>addr_state</th>\n",
              "      <th>dti</th>\n",
              "      <th>fico_range_low</th>\n",
              "      <th>fico_range_high</th>\n",
              "      <th>open_acc</th>\n",
              "      <th>pub_rec</th>\n",
              "      <th>revol_bal</th>\n",
              "      <th>revol_util</th>\n",
              "      <th>total_acc</th>\n",
              "      <th>mort_acc</th>\n",
              "      <th>tax_liens</th>\n",
              "    </tr>\n",
              "  </thead>\n",
              "  <tbody>\n",
              "    <tr>\n",
              "      <th>0</th>\n",
              "      <td>3600.0</td>\n",
              "      <td>36 months</td>\n",
              "      <td>13.99</td>\n",
              "      <td>123.03</td>\n",
              "      <td>C</td>\n",
              "      <td>10+ years</td>\n",
              "      <td>MORTGAGE</td>\n",
              "      <td>55000.0</td>\n",
              "      <td>Not Verified</td>\n",
              "      <td>n</td>\n",
              "      <td>190xx</td>\n",
              "      <td>PA</td>\n",
              "      <td>5.91</td>\n",
              "      <td>675.0</td>\n",
              "      <td>679.0</td>\n",
              "      <td>7.0</td>\n",
              "      <td>0.0</td>\n",
              "      <td>2765.0</td>\n",
              "      <td>29.7</td>\n",
              "      <td>13.0</td>\n",
              "      <td>1.0</td>\n",
              "      <td>0.0</td>\n",
              "    </tr>\n",
              "    <tr>\n",
              "      <th>1</th>\n",
              "      <td>24700.0</td>\n",
              "      <td>36 months</td>\n",
              "      <td>11.99</td>\n",
              "      <td>820.28</td>\n",
              "      <td>C</td>\n",
              "      <td>10+ years</td>\n",
              "      <td>MORTGAGE</td>\n",
              "      <td>65000.0</td>\n",
              "      <td>Not Verified</td>\n",
              "      <td>n</td>\n",
              "      <td>577xx</td>\n",
              "      <td>SD</td>\n",
              "      <td>16.06</td>\n",
              "      <td>715.0</td>\n",
              "      <td>719.0</td>\n",
              "      <td>22.0</td>\n",
              "      <td>0.0</td>\n",
              "      <td>21470.0</td>\n",
              "      <td>19.2</td>\n",
              "      <td>38.0</td>\n",
              "      <td>4.0</td>\n",
              "      <td>0.0</td>\n",
              "    </tr>\n",
              "    <tr>\n",
              "      <th>3</th>\n",
              "      <td>35000.0</td>\n",
              "      <td>60 months</td>\n",
              "      <td>14.85</td>\n",
              "      <td>829.90</td>\n",
              "      <td>C</td>\n",
              "      <td>10+ years</td>\n",
              "      <td>MORTGAGE</td>\n",
              "      <td>110000.0</td>\n",
              "      <td>Source Verified</td>\n",
              "      <td>n</td>\n",
              "      <td>076xx</td>\n",
              "      <td>NJ</td>\n",
              "      <td>17.06</td>\n",
              "      <td>785.0</td>\n",
              "      <td>789.0</td>\n",
              "      <td>13.0</td>\n",
              "      <td>0.0</td>\n",
              "      <td>7802.0</td>\n",
              "      <td>11.6</td>\n",
              "      <td>17.0</td>\n",
              "      <td>1.0</td>\n",
              "      <td>0.0</td>\n",
              "    </tr>\n",
              "    <tr>\n",
              "      <th>4</th>\n",
              "      <td>10400.0</td>\n",
              "      <td>60 months</td>\n",
              "      <td>22.45</td>\n",
              "      <td>289.91</td>\n",
              "      <td>F</td>\n",
              "      <td>3 years</td>\n",
              "      <td>MORTGAGE</td>\n",
              "      <td>104433.0</td>\n",
              "      <td>Source Verified</td>\n",
              "      <td>n</td>\n",
              "      <td>174xx</td>\n",
              "      <td>PA</td>\n",
              "      <td>25.37</td>\n",
              "      <td>695.0</td>\n",
              "      <td>699.0</td>\n",
              "      <td>12.0</td>\n",
              "      <td>0.0</td>\n",
              "      <td>21929.0</td>\n",
              "      <td>64.5</td>\n",
              "      <td>35.0</td>\n",
              "      <td>6.0</td>\n",
              "      <td>0.0</td>\n",
              "    </tr>\n",
              "    <tr>\n",
              "      <th>5</th>\n",
              "      <td>11950.0</td>\n",
              "      <td>36 months</td>\n",
              "      <td>13.44</td>\n",
              "      <td>405.18</td>\n",
              "      <td>C</td>\n",
              "      <td>4 years</td>\n",
              "      <td>RENT</td>\n",
              "      <td>34000.0</td>\n",
              "      <td>Source Verified</td>\n",
              "      <td>n</td>\n",
              "      <td>300xx</td>\n",
              "      <td>GA</td>\n",
              "      <td>10.20</td>\n",
              "      <td>690.0</td>\n",
              "      <td>694.0</td>\n",
              "      <td>5.0</td>\n",
              "      <td>0.0</td>\n",
              "      <td>8822.0</td>\n",
              "      <td>68.4</td>\n",
              "      <td>6.0</td>\n",
              "      <td>0.0</td>\n",
              "      <td>0.0</td>\n",
              "    </tr>\n",
              "  </tbody>\n",
              "</table>\n",
              "</div>"
            ],
            "text/plain": [
              "   loan_amnt        term  int_rate  ...  total_acc mort_acc tax_liens\n",
              "0     3600.0   36 months     13.99  ...       13.0      1.0       0.0\n",
              "1    24700.0   36 months     11.99  ...       38.0      4.0       0.0\n",
              "3    35000.0   60 months     14.85  ...       17.0      1.0       0.0\n",
              "4    10400.0   60 months     22.45  ...       35.0      6.0       0.0\n",
              "5    11950.0   36 months     13.44  ...        6.0      0.0       0.0\n",
              "\n",
              "[5 rows x 22 columns]"
            ]
          },
          "metadata": {
            "tags": []
          },
          "execution_count": 12
        }
      ]
    },
    {
      "cell_type": "markdown",
      "metadata": {
        "id": "e0coryPXnjtH"
      },
      "source": [
        "Encoding Text Data"
      ]
    },
    {
      "cell_type": "code",
      "metadata": {
        "id": "Bop_iqDeIdme"
      },
      "source": [
        "data.grade= pd.Categorical(data.grade)\n",
        "data['grade']= data.grade.cat.codes\n",
        "\n",
        "data.term= pd.Categorical(data.term)\n",
        "data['term']= data.term.cat.codes\n",
        "\n",
        "data.pymnt_plan= pd.Categorical(data.pymnt_plan)\n",
        "data['pymnt_plan']= data.pymnt_plan.cat.codes\n",
        "\n",
        "data.emp_length= pd.Categorical(data.emp_length)\n",
        "data.emp_length= data.emp_length.cat.codes\n",
        "\n",
        "data.home_ownership= pd.Categorical(data.home_ownership)\n",
        "data.home_ownership= data.home_ownership.cat.codes\n",
        "\n",
        "data.verification_status= pd.Categorical(data.verification_status)\n",
        "data.verification_status= data.verification_status.cat.codes\n",
        "\n",
        "data.zip_code = pd.Categorical(data.zip_code)\n",
        "data.zip_code= data.zip_code.cat.codes\n",
        "\n",
        "data.addr_state= pd.Categorical(data.addr_state)\n",
        "data.addr_state= data.addr_state.cat.codes"
      ],
      "execution_count": 13,
      "outputs": []
    },
    {
      "cell_type": "code",
      "metadata": {
        "colab": {
          "base_uri": "https://localhost:8080/",
          "height": 226
        },
        "id": "2KDuyCvwTItE",
        "outputId": "6ad16709-3ad8-4326-dcee-dce5e3fcef3c"
      },
      "source": [
        "data.head()"
      ],
      "execution_count": 14,
      "outputs": [
        {
          "output_type": "execute_result",
          "data": {
            "text/html": [
              "<div>\n",
              "<style scoped>\n",
              "    .dataframe tbody tr th:only-of-type {\n",
              "        vertical-align: middle;\n",
              "    }\n",
              "\n",
              "    .dataframe tbody tr th {\n",
              "        vertical-align: top;\n",
              "    }\n",
              "\n",
              "    .dataframe thead th {\n",
              "        text-align: right;\n",
              "    }\n",
              "</style>\n",
              "<table border=\"1\" class=\"dataframe\">\n",
              "  <thead>\n",
              "    <tr style=\"text-align: right;\">\n",
              "      <th></th>\n",
              "      <th>loan_amnt</th>\n",
              "      <th>term</th>\n",
              "      <th>int_rate</th>\n",
              "      <th>installment</th>\n",
              "      <th>grade</th>\n",
              "      <th>emp_length</th>\n",
              "      <th>home_ownership</th>\n",
              "      <th>annual_inc</th>\n",
              "      <th>verification_status</th>\n",
              "      <th>pymnt_plan</th>\n",
              "      <th>zip_code</th>\n",
              "      <th>addr_state</th>\n",
              "      <th>dti</th>\n",
              "      <th>fico_range_low</th>\n",
              "      <th>fico_range_high</th>\n",
              "      <th>open_acc</th>\n",
              "      <th>pub_rec</th>\n",
              "      <th>revol_bal</th>\n",
              "      <th>revol_util</th>\n",
              "      <th>total_acc</th>\n",
              "      <th>mort_acc</th>\n",
              "      <th>tax_liens</th>\n",
              "    </tr>\n",
              "  </thead>\n",
              "  <tbody>\n",
              "    <tr>\n",
              "      <th>0</th>\n",
              "      <td>3600.0</td>\n",
              "      <td>0</td>\n",
              "      <td>13.99</td>\n",
              "      <td>123.03</td>\n",
              "      <td>2</td>\n",
              "      <td>1</td>\n",
              "      <td>1</td>\n",
              "      <td>55000.0</td>\n",
              "      <td>0</td>\n",
              "      <td>0</td>\n",
              "      <td>183</td>\n",
              "      <td>38</td>\n",
              "      <td>5.91</td>\n",
              "      <td>675.0</td>\n",
              "      <td>679.0</td>\n",
              "      <td>7.0</td>\n",
              "      <td>0.0</td>\n",
              "      <td>2765.0</td>\n",
              "      <td>29.7</td>\n",
              "      <td>13.0</td>\n",
              "      <td>1.0</td>\n",
              "      <td>0.0</td>\n",
              "    </tr>\n",
              "    <tr>\n",
              "      <th>1</th>\n",
              "      <td>24700.0</td>\n",
              "      <td>0</td>\n",
              "      <td>11.99</td>\n",
              "      <td>820.28</td>\n",
              "      <td>2</td>\n",
              "      <td>1</td>\n",
              "      <td>1</td>\n",
              "      <td>65000.0</td>\n",
              "      <td>0</td>\n",
              "      <td>0</td>\n",
              "      <td>555</td>\n",
              "      <td>41</td>\n",
              "      <td>16.06</td>\n",
              "      <td>715.0</td>\n",
              "      <td>719.0</td>\n",
              "      <td>22.0</td>\n",
              "      <td>0.0</td>\n",
              "      <td>21470.0</td>\n",
              "      <td>19.2</td>\n",
              "      <td>38.0</td>\n",
              "      <td>4.0</td>\n",
              "      <td>0.0</td>\n",
              "    </tr>\n",
              "    <tr>\n",
              "      <th>3</th>\n",
              "      <td>35000.0</td>\n",
              "      <td>1</td>\n",
              "      <td>14.85</td>\n",
              "      <td>829.90</td>\n",
              "      <td>2</td>\n",
              "      <td>1</td>\n",
              "      <td>1</td>\n",
              "      <td>110000.0</td>\n",
              "      <td>1</td>\n",
              "      <td>0</td>\n",
              "      <td>70</td>\n",
              "      <td>31</td>\n",
              "      <td>17.06</td>\n",
              "      <td>785.0</td>\n",
              "      <td>789.0</td>\n",
              "      <td>13.0</td>\n",
              "      <td>0.0</td>\n",
              "      <td>7802.0</td>\n",
              "      <td>11.6</td>\n",
              "      <td>17.0</td>\n",
              "      <td>1.0</td>\n",
              "      <td>0.0</td>\n",
              "    </tr>\n",
              "    <tr>\n",
              "      <th>4</th>\n",
              "      <td>10400.0</td>\n",
              "      <td>1</td>\n",
              "      <td>22.45</td>\n",
              "      <td>289.91</td>\n",
              "      <td>5</td>\n",
              "      <td>3</td>\n",
              "      <td>1</td>\n",
              "      <td>104433.0</td>\n",
              "      <td>1</td>\n",
              "      <td>0</td>\n",
              "      <td>167</td>\n",
              "      <td>38</td>\n",
              "      <td>25.37</td>\n",
              "      <td>695.0</td>\n",
              "      <td>699.0</td>\n",
              "      <td>12.0</td>\n",
              "      <td>0.0</td>\n",
              "      <td>21929.0</td>\n",
              "      <td>64.5</td>\n",
              "      <td>35.0</td>\n",
              "      <td>6.0</td>\n",
              "      <td>0.0</td>\n",
              "    </tr>\n",
              "    <tr>\n",
              "      <th>5</th>\n",
              "      <td>11950.0</td>\n",
              "      <td>0</td>\n",
              "      <td>13.44</td>\n",
              "      <td>405.18</td>\n",
              "      <td>2</td>\n",
              "      <td>4</td>\n",
              "      <td>5</td>\n",
              "      <td>34000.0</td>\n",
              "      <td>1</td>\n",
              "      <td>0</td>\n",
              "      <td>291</td>\n",
              "      <td>10</td>\n",
              "      <td>10.20</td>\n",
              "      <td>690.0</td>\n",
              "      <td>694.0</td>\n",
              "      <td>5.0</td>\n",
              "      <td>0.0</td>\n",
              "      <td>8822.0</td>\n",
              "      <td>68.4</td>\n",
              "      <td>6.0</td>\n",
              "      <td>0.0</td>\n",
              "      <td>0.0</td>\n",
              "    </tr>\n",
              "  </tbody>\n",
              "</table>\n",
              "</div>"
            ],
            "text/plain": [
              "   loan_amnt  term  int_rate  ...  total_acc  mort_acc  tax_liens\n",
              "0     3600.0     0     13.99  ...       13.0       1.0        0.0\n",
              "1    24700.0     0     11.99  ...       38.0       4.0        0.0\n",
              "3    35000.0     1     14.85  ...       17.0       1.0        0.0\n",
              "4    10400.0     1     22.45  ...       35.0       6.0        0.0\n",
              "5    11950.0     0     13.44  ...        6.0       0.0        0.0\n",
              "\n",
              "[5 rows x 22 columns]"
            ]
          },
          "metadata": {
            "tags": []
          },
          "execution_count": 14
        }
      ]
    },
    {
      "cell_type": "markdown",
      "metadata": {
        "id": "hZ87Jj1lnwe3"
      },
      "source": [
        "Creating Training, validation and test set.\n",
        "\n",
        "* Training Set: 80%\n",
        "* Validation set: 10%\n",
        "* Test Set: 10%"
      ]
    },
    {
      "cell_type": "code",
      "metadata": {
        "id": "IC34rn60UrZ4"
      },
      "source": [
        "from sklearn.model_selection import train_test_split\n",
        "\n",
        "y= data['grade']\n",
        "x=data.drop('grade', axis=1)\n",
        "\n",
        "#Normalizing Data\n",
        "x=(x-x.mean())/x.std()\n",
        "\n",
        "\n",
        "x_train, x_test,y_train, y_test= train_test_split(x, y, test_size=0.2, random_state=1)\n",
        "x_test, x_val,y_test, y_val= train_test_split(x_test, y_test, test_size=0.5, random_state=1)"
      ],
      "execution_count": 15,
      "outputs": []
    },
    {
      "cell_type": "code",
      "metadata": {
        "id": "vMaPTXbmnv7j"
      },
      "source": [
        "#Tensorflow Dataset API\n",
        "training_data= tf.data.Dataset.from_tensor_slices((x_train.values,  y_train.values))\n",
        "validation_data= tf.data.Dataset.from_tensor_slices((x_val.values, y_val.values))\n",
        "test_data= tf.data.Dataset.from_tensor_slices((x_test.values,  y_test.values))\n",
        "\n",
        "#Batching Datasets\n",
        "training_data= training_data.batch(64)\n",
        "validation_data=validation_data.batch(64)\n",
        "test_data= test_data.batch(64)"
      ],
      "execution_count": 18,
      "outputs": []
    },
    {
      "cell_type": "markdown",
      "metadata": {
        "id": "WnbI1mjHTnl9"
      },
      "source": [
        "#Building Model"
      ]
    },
    {
      "cell_type": "code",
      "metadata": {
        "id": "KluLwD6Pdw-V"
      },
      "source": [
        "model= tf.keras.Sequential([\n",
        "                            tf.keras.layers.Dense(64, activation=\"relu\"),\n",
        "                            tf.keras.layers.Dense(64, activation=\"relu\"),\n",
        "                            tf.keras.layers.Dense(64, activation=\"relu\"),\n",
        "                            tf.keras.layers.Dense(32, activation=\"relu\"), \n",
        "                            tf.keras.layers.Dense(16, activation=\"relu\"),\n",
        "                            tf.keras.layers.Dense(7, activation=\"softmax\"),\n",
        "                            ])\n"
      ],
      "execution_count": 66,
      "outputs": []
    },
    {
      "cell_type": "markdown",
      "metadata": {
        "id": "zb5FOEwbs_9g"
      },
      "source": [
        "#Training Model"
      ]
    },
    {
      "cell_type": "code",
      "metadata": {
        "id": "4OS9tOVj3uOu"
      },
      "source": [
        "\n",
        "\n",
        "model.compile(optimizer=tf.keras.optimizers.Adam(learning_rate=0.001), \n",
        "              loss=tf.keras.losses.SparseCategoricalCrossentropy(),\n",
        "               metrics= [\"accuracy\"]\n",
        ")"
      ],
      "execution_count": 67,
      "outputs": []
    },
    {
      "cell_type": "code",
      "metadata": {
        "id": "iYL0K8Lzq6ga",
        "colab": {
          "base_uri": "https://localhost:8080/"
        },
        "outputId": "37008a37-712e-4ca7-9494-6e2cb1111d39"
      },
      "source": [
        "history= model.fit(training_data, validation_data=validation_data, epochs=30, shuffle=True)"
      ],
      "execution_count": 68,
      "outputs": [
        {
          "output_type": "stream",
          "text": [
            "Epoch 1/30\n",
            "26750/26750 [==============================] - 60s 2ms/step - loss: 0.3424 - accuracy: 0.8479 - val_loss: 0.3046 - val_accuracy: 0.8641\n",
            "Epoch 2/30\n",
            "26750/26750 [==============================] - 60s 2ms/step - loss: 0.2965 - accuracy: 0.8663 - val_loss: 0.2789 - val_accuracy: 0.8715\n",
            "Epoch 3/30\n",
            "26750/26750 [==============================] - 60s 2ms/step - loss: 0.2728 - accuracy: 0.8745 - val_loss: 0.2736 - val_accuracy: 0.8711\n",
            "Epoch 4/30\n",
            "26750/26750 [==============================] - 60s 2ms/step - loss: 0.2638 - accuracy: 0.8784 - val_loss: 0.2631 - val_accuracy: 0.8775\n",
            "Epoch 5/30\n",
            "26750/26750 [==============================] - 60s 2ms/step - loss: 0.2564 - accuracy: 0.8821 - val_loss: 0.2472 - val_accuracy: 0.8875\n",
            "Epoch 6/30\n",
            "26750/26750 [==============================] - 60s 2ms/step - loss: 0.2499 - accuracy: 0.8853 - val_loss: 0.2416 - val_accuracy: 0.8896\n",
            "Epoch 7/30\n",
            "26750/26750 [==============================] - 60s 2ms/step - loss: 0.2447 - accuracy: 0.8877 - val_loss: 0.2366 - val_accuracy: 0.8917\n",
            "Epoch 8/30\n",
            "26750/26750 [==============================] - 60s 2ms/step - loss: 0.2362 - accuracy: 0.8920 - val_loss: 0.2299 - val_accuracy: 0.8942\n",
            "Epoch 9/30\n",
            "26750/26750 [==============================] - 60s 2ms/step - loss: 0.2295 - accuracy: 0.8951 - val_loss: 0.2232 - val_accuracy: 0.8981\n",
            "Epoch 10/30\n",
            "26750/26750 [==============================] - 60s 2ms/step - loss: 0.2254 - accuracy: 0.8969 - val_loss: 0.2265 - val_accuracy: 0.8978\n",
            "Epoch 11/30\n",
            "26750/26750 [==============================] - 60s 2ms/step - loss: 0.2219 - accuracy: 0.8983 - val_loss: 0.2189 - val_accuracy: 0.8992\n",
            "Epoch 12/30\n",
            "26750/26750 [==============================] - 60s 2ms/step - loss: 0.2194 - accuracy: 0.8995 - val_loss: 0.2099 - val_accuracy: 0.9045\n",
            "Epoch 13/30\n",
            "26750/26750 [==============================] - 60s 2ms/step - loss: 0.2168 - accuracy: 0.9009 - val_loss: 0.2244 - val_accuracy: 0.8982\n",
            "Epoch 14/30\n",
            "26750/26750 [==============================] - 60s 2ms/step - loss: 0.2144 - accuracy: 0.9019 - val_loss: 0.2094 - val_accuracy: 0.9048\n",
            "Epoch 15/30\n",
            "26750/26750 [==============================] - 61s 2ms/step - loss: 0.2094 - accuracy: 0.9042 - val_loss: 0.2007 - val_accuracy: 0.9082\n",
            "Epoch 16/30\n",
            "26750/26750 [==============================] - 60s 2ms/step - loss: 0.2062 - accuracy: 0.9057 - val_loss: 0.1956 - val_accuracy: 0.9111\n",
            "Epoch 17/30\n",
            "26750/26750 [==============================] - 62s 2ms/step - loss: 0.2041 - accuracy: 0.9069 - val_loss: 0.2066 - val_accuracy: 0.9047\n",
            "Epoch 18/30\n",
            "26750/26750 [==============================] - 61s 2ms/step - loss: 0.2028 - accuracy: 0.9076 - val_loss: 0.1995 - val_accuracy: 0.9095\n",
            "Epoch 19/30\n",
            "26750/26750 [==============================] - 60s 2ms/step - loss: 0.1996 - accuracy: 0.9089 - val_loss: 0.1887 - val_accuracy: 0.9137\n",
            "Epoch 20/30\n",
            "26750/26750 [==============================] - 60s 2ms/step - loss: 0.1976 - accuracy: 0.9098 - val_loss: 0.1899 - val_accuracy: 0.9136\n",
            "Epoch 21/30\n",
            "26750/26750 [==============================] - 60s 2ms/step - loss: 0.1978 - accuracy: 0.9103 - val_loss: 0.1861 - val_accuracy: 0.9152\n",
            "Epoch 22/30\n",
            "26750/26750 [==============================] - 60s 2ms/step - loss: 0.1966 - accuracy: 0.9104 - val_loss: 0.1871 - val_accuracy: 0.9152\n",
            "Epoch 23/30\n",
            "26750/26750 [==============================] - 60s 2ms/step - loss: 0.1945 - accuracy: 0.9113 - val_loss: 0.1877 - val_accuracy: 0.9143\n",
            "Epoch 24/30\n",
            "26750/26750 [==============================] - 60s 2ms/step - loss: 0.1932 - accuracy: 0.9117 - val_loss: 0.1888 - val_accuracy: 0.9147\n",
            "Epoch 25/30\n",
            "26750/26750 [==============================] - 60s 2ms/step - loss: 0.1925 - accuracy: 0.9123 - val_loss: 0.1962 - val_accuracy: 0.9120\n",
            "Epoch 26/30\n",
            "26750/26750 [==============================] - 60s 2ms/step - loss: 0.1917 - accuracy: 0.9126 - val_loss: 0.1920 - val_accuracy: 0.9124\n",
            "Epoch 27/30\n",
            "26750/26750 [==============================] - 60s 2ms/step - loss: 0.1922 - accuracy: 0.9123 - val_loss: 0.1884 - val_accuracy: 0.9150\n",
            "Epoch 28/30\n",
            "26750/26750 [==============================] - 60s 2ms/step - loss: 0.1937 - accuracy: 0.9130 - val_loss: 0.1875 - val_accuracy: 0.9155\n",
            "Epoch 29/30\n",
            "26750/26750 [==============================] - 60s 2ms/step - loss: 0.1997 - accuracy: 0.9112 - val_loss: 0.1877 - val_accuracy: 0.9147\n",
            "Epoch 30/30\n",
            "26750/26750 [==============================] - 60s 2ms/step - loss: 0.1907 - accuracy: 0.9135 - val_loss: 0.1806 - val_accuracy: 0.9183\n"
          ],
          "name": "stdout"
        }
      ]
    },
    {
      "cell_type": "code",
      "metadata": {
        "colab": {
          "base_uri": "https://localhost:8080/"
        },
        "id": "iI4KvFcNjrAY",
        "outputId": "a4927c7e-13e4-47bd-f951-398b0feb8928"
      },
      "source": [
        "metrics=model.evaluate(test_data, return_dict=True)\n",
        "\n",
        "print(\"Accuracy: %.2f\"%(metrics[\"accuracy\"]*100) +\"%\" )\n",
        "print(\"Loss:%.2f\"%(metrics[\"loss\"]) + \"%\" )"
      ],
      "execution_count": 83,
      "outputs": [
        {
          "output_type": "stream",
          "text": [
            "3344/3344 [==============================] - 6s 2ms/step - loss: 0.1813 - accuracy: 0.9174\n",
            "Accuracy: 91.74%\n",
            "Loss:0.18%\n"
          ],
          "name": "stdout"
        }
      ]
    },
    {
      "cell_type": "code",
      "metadata": {
        "colab": {
          "base_uri": "https://localhost:8080/",
          "height": 444
        },
        "id": "dXaX-TB9cHew",
        "outputId": "af7b9f6a-7a17-4add-e718-8722d26b5277"
      },
      "source": [
        "fig, [accuracy, loss]= plt.subplots(ncols=2, figsize=(14,7))\n",
        "\n",
        "accuracy.plot(history.history[\"accuracy\"], label=\"Training Accuracy\")\n",
        "accuracy.plot(history.history[\"val_accuracy\" ],  label= \"Validation Accuracy\")\n",
        "accuracy.legend()\n",
        "accuracy.set_title(\"Accuracy vs Loss\")\n",
        "\n",
        "loss.plot(history.history[\"loss\"], label=\"loss\")\n",
        "loss.plot(history.history[\"val_loss\"], label=\"Validation Loss\")\n",
        "loss.legend()\n",
        "loss.set_title(\"Loss vs Epoch\")\n",
        "plt.show()"
      ],
      "execution_count": 90,
      "outputs": [
        {
          "output_type": "display_data",
          "data": {
            "image/png": "[encoded data removed]",
            "text/plain": [
              "<Figure size 1008x504 with 2 Axes>"
            ]
          },
          "metadata": {
            "tags": [],
            "needs_background": "light"
          }
        }
      ]
    },
    {
      "cell_type": "code",
      "metadata": {
        "id": "_7_neDbLe6OK"
      },
      "source": [
        "model.save(\"model.h5\")"
      ],
      "execution_count": 84,
      "outputs": []
    }
  ]
}